{
 "cells": [
  {
   "metadata": {
    "ExecuteTime": {
     "end_time": "2025-02-25T02:50:54.028642Z",
     "start_time": "2025-02-25T02:50:54.020298Z"
    }
   },
   "cell_type": "code",
   "source": [
    "import cv2\n",
    "import numpy as np\n",
    "\n",
    "def remove_black_borders(img, output_size=1024):\n",
    "    def smart_retina_preprocessing(img):\n",
    "\n",
    "        # 获取原始尺寸\n",
    "        h, w = img.shape[:2]\n",
    "\n",
    "        if h > w:\n",
    "            top = bottom = 0\n",
    "            left = right = (h - w) // 2\n",
    "        else:\n",
    "            top = bottom = (w - h) // 2\n",
    "            left = right = 0\n",
    "\n",
    "\n",
    "        # 添加黑色边框\n",
    "        padded = cv2.copyMakeBorder(img,\n",
    "                                    top, bottom,\n",
    "                                    left, right,\n",
    "                                    cv2.BORDER_CONSTANT,\n",
    "                                    value=[0, 0, 0])\n",
    "\n",
    "        return padded\n",
    "\n",
    "    img = smart_retina_preprocessing(img)\n",
    "\n",
    "    # 转换为灰度图并进行阈值处理\n",
    "    gray = cv2.cvtColor(img, cv2.COLOR_RGB2GRAY)\n",
    "    _, thresh = cv2.threshold(gray, 1, 255, cv2.THRESH_BINARY)\n",
    "\n",
    "    # 查找轮廓并找到最大轮廓\n",
    "    contours, _ = cv2.findContours(thresh, cv2.RETR_EXTERNAL, cv2.CHAIN_APPROX_SIMPLE)\n",
    "    cnt = max(contours, key=cv2.contourArea)\n",
    "\n",
    "    # 获取有效区域的边界矩形\n",
    "    x, y, w, h = cv2.boundingRect(cnt)\n",
    "\n",
    "    # 计算最大内接正方形（保持眼球完整）\n",
    "    square_size = max(w, h)\n",
    "    center_x = x + w//2\n",
    "    center_y = y + h//2\n",
    "\n",
    "    # 计算裁剪坐标（确保不越界）\n",
    "    crop_x1 = max(0, center_x - square_size//2)\n",
    "    crop_y1 = max(0, center_y - square_size//2)\n",
    "    crop_x2 = min(img.shape[1], crop_x1 + square_size)\n",
    "    crop_y2 = min(img.shape[0], crop_y1 + square_size)\n",
    "\n",
    "    # 执行裁剪\n",
    "    cropped = img[crop_y1:crop_y2, crop_x1:crop_x2]\n",
    "\n",
    "    # 最终缩放（可选）\n",
    "    if output_size != square_size:\n",
    "        cropped = cv2.resize(cropped, (output_size, output_size),\n",
    "                             interpolation=cv2.INTER_LANCZOS4)\n",
    "\n",
    "    return cropped\n"
   ],
   "id": "b513d2f2bd6c423",
   "outputs": [],
   "execution_count": 8
  },
  {
   "metadata": {
    "ExecuteTime": {
     "end_time": "2025-02-25T02:50:54.038275Z",
     "start_time": "2025-02-25T02:50:54.034441Z"
    }
   },
   "cell_type": "code",
   "source": [
    "def adaptive_contrast_enhancement(img, clip_limit=3.0, grid_size=(8,8)):\n",
    "    \"\"\"\n",
    "    使用CLAHE算法增强对比度\n",
    "    :param img: 图片\n",
    "    :param clip_limit: 对比度限制阈值（推荐2-4）\n",
    "    :param grid_size: 网格划分大小（推荐8x8到16x16）\n",
    "    \"\"\"\n",
    "    lab = cv2.cvtColor(img, cv2.COLOR_RGB2LAB)\n",
    "    l, a, b = cv2.split(lab)\n",
    "\n",
    "    # CLAHE应用在L通道\n",
    "    clahe = cv2.createCLAHE(clipLimit=clip_limit, tileGridSize=grid_size)\n",
    "    l_clahe = clahe.apply(l)\n",
    "\n",
    "    merged = cv2.merge((l_clahe, a, b))\n",
    "    return cv2.cvtColor(merged, cv2.COLOR_LAB2BGR)\n"
   ],
   "id": "ad113709fe2ed7cb",
   "outputs": [],
   "execution_count": 9
  },
  {
   "metadata": {
    "ExecuteTime": {
     "end_time": "2025-02-25T02:50:54.047536Z",
     "start_time": "2025-02-25T02:50:54.044493Z"
    }
   },
   "cell_type": "code",
   "source": [
    "from skimage.filters import frangi\n",
    "def vessel_enhancement(img, sigma_range=(1, 3), steps=5):\n",
    "    \"\"\"\n",
    "    多尺度Frangi滤波增强血管结构\n",
    "    :param sigma_range: 高斯核尺度范围\n",
    "    :param steps: 尺度采样数\n",
    "    \"\"\"\n",
    "    gray = cv2.cvtColor(img, cv2.COLOR_RGB2GRAY)\n",
    "\n",
    "    # 多尺度融合\n",
    "    enhanced = np.zeros_like(gray, dtype=np.float32)\n",
    "    for sigma in np.linspace(sigma_range[0], sigma_range[1], steps):\n",
    "        enhanced += frangi(gray, sigmas=[sigma], black_ridges=False)\n",
    "\n",
    "    # 归一化并融合到原图\n",
    "    enhanced = cv2.normalize(enhanced, None, 0, 255, cv2.NORM_MINMAX)\n",
    "    return cv2.addWeighted(img, 0.7,\n",
    "                           cv2.cvtColor(enhanced.astype(np.uint8), cv2.COLOR_GRAY2RGB),\n",
    "                           0.3, 0)"
   ],
   "id": "5a9a18c8e9e24f99",
   "outputs": [],
   "execution_count": 10
  },
  {
   "metadata": {
    "ExecuteTime": {
     "end_time": "2025-02-25T02:50:54.056916Z",
     "start_time": "2025-02-25T02:50:54.053955Z"
    }
   },
   "cell_type": "code",
   "source": [
    "def gray_world_normalization(img):\n",
    "    \"\"\"\n",
    "    灰度世界颜色校正算法\n",
    "    \"\"\"\n",
    "    avg_r = np.mean(img[:,:,0])\n",
    "    avg_g = np.mean(img[:,:,1])\n",
    "    avg_b = np.mean(img[:,:,2])\n",
    "    avg_gray = (avg_r + avg_g + avg_b) / 3.0\n",
    "\n",
    "    img_normalized = np.zeros_like(img, dtype=np.float32)\n",
    "    img_normalized[:,:,0] = img[:,:,0] * (avg_gray / avg_r)\n",
    "    img_normalized[:,:,1] = img[:,:,1] * (avg_gray / avg_g)\n",
    "    img_normalized[:,:,2] = img[:,:,2] * (avg_gray / avg_b)\n",
    "\n",
    "    return cv2.normalize(img_normalized, None, 0, 255, cv2.NORM_MINMAX).astype(np.uint8)\n"
   ],
   "id": "df936b4c46f9f7e2",
   "outputs": [],
   "execution_count": 11
  },
  {
   "metadata": {
    "ExecuteTime": {
     "end_time": "2025-02-25T02:50:54.067800Z",
     "start_time": "2025-02-25T02:50:54.066294Z"
    }
   },
   "cell_type": "code",
   "source": [
    "# from mrcnn.config import Config\n",
    "# from mrcnn.model import MaskRCNN\n",
    "# def optic_disc_segmentation(img, model_path='mask_rcnn_optic.h5'):\n",
    "#     \"\"\"\n",
    "#     视盘区域分割\n",
    "#     \"\"\"\n",
    "#\n",
    "#\n",
    "#     class OpticDiscConfig(Config):\n",
    "#         NAME = \"optic_disc\"\n",
    "#         IMAGES_PER_GPU = 1\n",
    "#         NUM_CLASSES = 1 + 1  # Background + optic_disc\n",
    "#         DETECTION_MIN_CONFIDENCE = 0.9\n",
    "#\n",
    "#     model = MaskRCNN(mode='inference', config=OpticDiscConfig(), model_dir='./')\n",
    "#     model.load_weights(model_path, by_name=True)\n",
    "#\n",
    "#     # 预测并获取掩膜\n",
    "#     results = model.detect([img], verbose=0)\n",
    "#     mask = results[0]['masks'][:,:,0]\n",
    "#\n",
    "#     # 生成ROI区域\n",
    "#     y, x = np.where(mask)\n",
    "#     x1, y1 = np.min(x), np.min(y)\n",
    "#     x2, y2 = np.max(x), np.max(y)\n",
    "#     return img[y1:y2, x1:x2], (x1, y1, x2, y2)"
   ],
   "id": "eae2ea15c6e18d4",
   "outputs": [],
   "execution_count": 12
  },
  {
   "metadata": {
    "ExecuteTime": {
     "end_time": "2025-02-25T02:50:54.071967Z",
     "start_time": "2025-02-25T02:50:54.070012Z"
    }
   },
   "cell_type": "code",
   "source": [
    "def full_processing_pipeline(img_path, output_size=1024):\n",
    "    # 1. 基础预处理\n",
    "    img = cv2.imread(img_path)\n",
    "    img = cv2.cvtColor(img, cv2.COLOR_BGR2RGB)\n",
    "\n",
    "    # 2. 图像增强\n",
    "    img = remove_black_borders(img)\n",
    "    img = adaptive_contrast_enhancement(img)\n",
    "    img = vessel_enhancement(img)\n",
    "\n",
    "    # 3. 色彩标准化\n",
    "    img = gray_world_normalization(img)\n",
    "\n",
    "    # 4. ROI处理\n",
    "    # disc_roi, disc_coords = optic_disc_segmentation(img)\n",
    "\n",
    "    # # 5. 标准化输出\n",
    "    # disc_roi = cv2.resize(disc_roi, (256, 256))\n",
    "    #\n",
    "    # # 6. 可视化标注\n",
    "    # annotated = img.copy()\n",
    "    # cv2.rectangle(annotated, (disc_coords[0], disc_coords[1]),\n",
    "    #               (disc_coords[2], disc_coords[3]), (255,0,0), 2)\n",
    "\n",
    "    return {\n",
    "        'full_image': cv2.resize(img, (output_size, output_size)),\n",
    "        # 'disc_roi': disc_roi,\n",
    "        # 'annotated': annotated\n",
    "    }"
   ],
   "id": "cebe8d75ca1b85e8",
   "outputs": [],
   "execution_count": 13
  },
  {
   "metadata": {
    "ExecuteTime": {
     "end_time": "2025-02-25T02:50:55.042268Z",
     "start_time": "2025-02-25T02:50:54.078030Z"
    }
   },
   "cell_type": "code",
   "source": "result = full_processing_pipeline(\"../Data/Training_Dataset/12_right.jpg\")",
   "id": "ad9cf43b19c2410b",
   "outputs": [],
   "execution_count": 14
  }
 ],
 "metadata": {
  "kernelspec": {
   "display_name": "Python 3",
   "language": "python",
   "name": "python3"
  },
  "language_info": {
   "codemirror_mode": {
    "name": "ipython",
    "version": 2
   },
   "file_extension": ".py",
   "mimetype": "text/x-python",
   "name": "python",
   "nbconvert_exporter": "python",
   "pygments_lexer": "ipython2",
   "version": "2.7.6"
  }
 },
 "nbformat": 4,
 "nbformat_minor": 5
}
